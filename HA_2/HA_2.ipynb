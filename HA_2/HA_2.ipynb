{
  "nbformat": 4,
  "nbformat_minor": 0,
  "metadata": {
    "colab": {
      "provenance": []
    },
    "kernelspec": {
      "name": "python3",
      "display_name": "Python 3"
    },
    "language_info": {
      "name": "python"
    }
  },
  "cells": [
    {
      "cell_type": "code",
      "execution_count": 1,
      "metadata": {
        "id": "i2xJRa7ep1TK"
      },
      "outputs": [],
      "source": [
        "%matplotlib inline\n",
        "\n",
        "from scipy.stats import chi2, norm\n",
        "\n",
        "import matplotlib.pyplot as plt\n",
        "import numpy as np\n",
        "import pandas as pd\n",
        "import statsmodels.api as sm"
      ]
    },
    {
      "cell_type": "markdown",
      "source": [
        "# Task 1"
      ],
      "metadata": {
        "id": "R-e3JQsBp19R"
      }
    },
    {
      "cell_type": "markdown",
      "source": [
        "The logic that overlapping confidence intervals imply equal parameters is incorrect because confidence intervals represent the range of plausible values for a parameter, not the true value. Overlapping intervals only indicate that the true values of the two parameters are not statistically significantly different from each other. The researcher could check if difference between this two parameters is zero and construct CI for that."
      ],
      "metadata": {
        "id": "R9G0A2XtWH01"
      }
    },
    {
      "cell_type": "markdown",
      "source": [
        "# Task 4"
      ],
      "metadata": {
        "id": "4-p8llBMp32y"
      }
    },
    {
      "cell_type": "markdown",
      "source": [
        "Sum of coefficients = 1 means that Coub_Douglas function exhibits CRS (because those are practically degrees of labour, capital and fuel in the production function). They also represent the share of the output that will will remunerate certain means of production."
      ],
      "metadata": {
        "id": "2P9T_FYLdfOD"
      }
    },
    {
      "cell_type": "code",
      "source": [
        "data = pd.read_csv(\"Nerlove1963.csv\").apply(np.log)\n",
        "y = data['Cost'].values\n",
        "x = data.drop(['Cost'], axis=1).values"
      ],
      "metadata": {
        "id": "j11ZZ5ySXIEn"
      },
      "execution_count": 2,
      "outputs": []
    },
    {
      "cell_type": "code",
      "source": [
        "X = sm.add_constant(x) #regressors\n",
        "xtxi = np.linalg.inv(X.T @ X)\n",
        "beta = xtxi @ X.T @ y #vector of estimated coefficients\n",
        "\n",
        "yh = X @ beta #target values\n",
        "eh = y - yh\n",
        "\n",
        "n = X.shape[0]\n",
        "Q = X.T @ X / n\n",
        "Qi = np.linalg.inv(Q)\n",
        "\n",
        "V = X.T @ np.diag(eh ** 2) @ X / n\n",
        "V_beta = Qi @ V @ Qi\n",
        "\n",
        "pd.DataFrame(V_beta, columns=['b1', 'b2', 'b3', 'b4', 'b5'], index=['b1', 'b2', 'b3', 'b4', 'b5'])"
      ],
      "metadata": {
        "colab": {
          "base_uri": "https://localhost:8080/",
          "height": 206
        },
        "id": "-HIxAuQhcJQu",
        "outputId": "79ee5ba9-9912-4911-82a2-9fc239944654"
      },
      "execution_count": 3,
      "outputs": [
        {
          "output_type": "execute_result",
          "data": {
            "text/plain": [
              "            b1        b2         b3         b4        b5\n",
              "b1  413.502348 -1.922495 -20.358547 -76.922398  2.950307\n",
              "b2   -1.922495  0.148764  -0.193792   0.211728 -0.033674\n",
              "b3  -20.358547 -0.193792   8.447172   3.918115 -1.200389\n",
              "b4  -76.922398  0.211728   3.918115  14.679601 -0.856086\n",
              "b5    2.950307 -0.033674  -1.200389  -0.856086  0.797670"
            ],
            "text/html": [
              "\n",
              "  <div id=\"df-99f5b505-2ce3-4656-a8d0-a0716891c42f\" class=\"colab-df-container\">\n",
              "    <div>\n",
              "<style scoped>\n",
              "    .dataframe tbody tr th:only-of-type {\n",
              "        vertical-align: middle;\n",
              "    }\n",
              "\n",
              "    .dataframe tbody tr th {\n",
              "        vertical-align: top;\n",
              "    }\n",
              "\n",
              "    .dataframe thead th {\n",
              "        text-align: right;\n",
              "    }\n",
              "</style>\n",
              "<table border=\"1\" class=\"dataframe\">\n",
              "  <thead>\n",
              "    <tr style=\"text-align: right;\">\n",
              "      <th></th>\n",
              "      <th>b1</th>\n",
              "      <th>b2</th>\n",
              "      <th>b3</th>\n",
              "      <th>b4</th>\n",
              "      <th>b5</th>\n",
              "    </tr>\n",
              "  </thead>\n",
              "  <tbody>\n",
              "    <tr>\n",
              "      <th>b1</th>\n",
              "      <td>413.502348</td>\n",
              "      <td>-1.922495</td>\n",
              "      <td>-20.358547</td>\n",
              "      <td>-76.922398</td>\n",
              "      <td>2.950307</td>\n",
              "    </tr>\n",
              "    <tr>\n",
              "      <th>b2</th>\n",
              "      <td>-1.922495</td>\n",
              "      <td>0.148764</td>\n",
              "      <td>-0.193792</td>\n",
              "      <td>0.211728</td>\n",
              "      <td>-0.033674</td>\n",
              "    </tr>\n",
              "    <tr>\n",
              "      <th>b3</th>\n",
              "      <td>-20.358547</td>\n",
              "      <td>-0.193792</td>\n",
              "      <td>8.447172</td>\n",
              "      <td>3.918115</td>\n",
              "      <td>-1.200389</td>\n",
              "    </tr>\n",
              "    <tr>\n",
              "      <th>b4</th>\n",
              "      <td>-76.922398</td>\n",
              "      <td>0.211728</td>\n",
              "      <td>3.918115</td>\n",
              "      <td>14.679601</td>\n",
              "      <td>-0.856086</td>\n",
              "    </tr>\n",
              "    <tr>\n",
              "      <th>b5</th>\n",
              "      <td>2.950307</td>\n",
              "      <td>-0.033674</td>\n",
              "      <td>-1.200389</td>\n",
              "      <td>-0.856086</td>\n",
              "      <td>0.797670</td>\n",
              "    </tr>\n",
              "  </tbody>\n",
              "</table>\n",
              "</div>\n",
              "    <div class=\"colab-df-buttons\">\n",
              "\n",
              "  <div class=\"colab-df-container\">\n",
              "    <button class=\"colab-df-convert\" onclick=\"convertToInteractive('df-99f5b505-2ce3-4656-a8d0-a0716891c42f')\"\n",
              "            title=\"Convert this dataframe to an interactive table.\"\n",
              "            style=\"display:none;\">\n",
              "\n",
              "  <svg xmlns=\"http://www.w3.org/2000/svg\" height=\"24px\" viewBox=\"0 -960 960 960\">\n",
              "    <path d=\"M120-120v-720h720v720H120Zm60-500h600v-160H180v160Zm220 220h160v-160H400v160Zm0 220h160v-160H400v160ZM180-400h160v-160H180v160Zm440 0h160v-160H620v160ZM180-180h160v-160H180v160Zm440 0h160v-160H620v160Z\"/>\n",
              "  </svg>\n",
              "    </button>\n",
              "\n",
              "  <style>\n",
              "    .colab-df-container {\n",
              "      display:flex;\n",
              "      gap: 12px;\n",
              "    }\n",
              "\n",
              "    .colab-df-convert {\n",
              "      background-color: #E8F0FE;\n",
              "      border: none;\n",
              "      border-radius: 50%;\n",
              "      cursor: pointer;\n",
              "      display: none;\n",
              "      fill: #1967D2;\n",
              "      height: 32px;\n",
              "      padding: 0 0 0 0;\n",
              "      width: 32px;\n",
              "    }\n",
              "\n",
              "    .colab-df-convert:hover {\n",
              "      background-color: #E2EBFA;\n",
              "      box-shadow: 0px 1px 2px rgba(60, 64, 67, 0.3), 0px 1px 3px 1px rgba(60, 64, 67, 0.15);\n",
              "      fill: #174EA6;\n",
              "    }\n",
              "\n",
              "    .colab-df-buttons div {\n",
              "      margin-bottom: 4px;\n",
              "    }\n",
              "\n",
              "    [theme=dark] .colab-df-convert {\n",
              "      background-color: #3B4455;\n",
              "      fill: #D2E3FC;\n",
              "    }\n",
              "\n",
              "    [theme=dark] .colab-df-convert:hover {\n",
              "      background-color: #434B5C;\n",
              "      box-shadow: 0px 1px 3px 1px rgba(0, 0, 0, 0.15);\n",
              "      filter: drop-shadow(0px 1px 2px rgba(0, 0, 0, 0.3));\n",
              "      fill: #FFFFFF;\n",
              "    }\n",
              "  </style>\n",
              "\n",
              "    <script>\n",
              "      const buttonEl =\n",
              "        document.querySelector('#df-99f5b505-2ce3-4656-a8d0-a0716891c42f button.colab-df-convert');\n",
              "      buttonEl.style.display =\n",
              "        google.colab.kernel.accessAllowed ? 'block' : 'none';\n",
              "\n",
              "      async function convertToInteractive(key) {\n",
              "        const element = document.querySelector('#df-99f5b505-2ce3-4656-a8d0-a0716891c42f');\n",
              "        const dataTable =\n",
              "          await google.colab.kernel.invokeFunction('convertToInteractive',\n",
              "                                                    [key], {});\n",
              "        if (!dataTable) return;\n",
              "\n",
              "        const docLinkHtml = 'Like what you see? Visit the ' +\n",
              "          '<a target=\"_blank\" href=https://colab.research.google.com/notebooks/data_table.ipynb>data table notebook</a>'\n",
              "          + ' to learn more about interactive tables.';\n",
              "        element.innerHTML = '';\n",
              "        dataTable['output_type'] = 'display_data';\n",
              "        await google.colab.output.renderOutput(dataTable, element);\n",
              "        const docLink = document.createElement('div');\n",
              "        docLink.innerHTML = docLinkHtml;\n",
              "        element.appendChild(docLink);\n",
              "      }\n",
              "    </script>\n",
              "  </div>\n",
              "\n",
              "\n",
              "<div id=\"df-013a0f24-3f48-4d12-9c9b-6b4c02548d6c\">\n",
              "  <button class=\"colab-df-quickchart\" onclick=\"quickchart('df-013a0f24-3f48-4d12-9c9b-6b4c02548d6c')\"\n",
              "            title=\"Suggest charts\"\n",
              "            style=\"display:none;\">\n",
              "\n",
              "<svg xmlns=\"http://www.w3.org/2000/svg\" height=\"24px\"viewBox=\"0 0 24 24\"\n",
              "     width=\"24px\">\n",
              "    <g>\n",
              "        <path d=\"M19 3H5c-1.1 0-2 .9-2 2v14c0 1.1.9 2 2 2h14c1.1 0 2-.9 2-2V5c0-1.1-.9-2-2-2zM9 17H7v-7h2v7zm4 0h-2V7h2v10zm4 0h-2v-4h2v4z\"/>\n",
              "    </g>\n",
              "</svg>\n",
              "  </button>\n",
              "\n",
              "<style>\n",
              "  .colab-df-quickchart {\n",
              "      --bg-color: #E8F0FE;\n",
              "      --fill-color: #1967D2;\n",
              "      --hover-bg-color: #E2EBFA;\n",
              "      --hover-fill-color: #174EA6;\n",
              "      --disabled-fill-color: #AAA;\n",
              "      --disabled-bg-color: #DDD;\n",
              "  }\n",
              "\n",
              "  [theme=dark] .colab-df-quickchart {\n",
              "      --bg-color: #3B4455;\n",
              "      --fill-color: #D2E3FC;\n",
              "      --hover-bg-color: #434B5C;\n",
              "      --hover-fill-color: #FFFFFF;\n",
              "      --disabled-bg-color: #3B4455;\n",
              "      --disabled-fill-color: #666;\n",
              "  }\n",
              "\n",
              "  .colab-df-quickchart {\n",
              "    background-color: var(--bg-color);\n",
              "    border: none;\n",
              "    border-radius: 50%;\n",
              "    cursor: pointer;\n",
              "    display: none;\n",
              "    fill: var(--fill-color);\n",
              "    height: 32px;\n",
              "    padding: 0;\n",
              "    width: 32px;\n",
              "  }\n",
              "\n",
              "  .colab-df-quickchart:hover {\n",
              "    background-color: var(--hover-bg-color);\n",
              "    box-shadow: 0 1px 2px rgba(60, 64, 67, 0.3), 0 1px 3px 1px rgba(60, 64, 67, 0.15);\n",
              "    fill: var(--button-hover-fill-color);\n",
              "  }\n",
              "\n",
              "  .colab-df-quickchart-complete:disabled,\n",
              "  .colab-df-quickchart-complete:disabled:hover {\n",
              "    background-color: var(--disabled-bg-color);\n",
              "    fill: var(--disabled-fill-color);\n",
              "    box-shadow: none;\n",
              "  }\n",
              "\n",
              "  .colab-df-spinner {\n",
              "    border: 2px solid var(--fill-color);\n",
              "    border-color: transparent;\n",
              "    border-bottom-color: var(--fill-color);\n",
              "    animation:\n",
              "      spin 1s steps(1) infinite;\n",
              "  }\n",
              "\n",
              "  @keyframes spin {\n",
              "    0% {\n",
              "      border-color: transparent;\n",
              "      border-bottom-color: var(--fill-color);\n",
              "      border-left-color: var(--fill-color);\n",
              "    }\n",
              "    20% {\n",
              "      border-color: transparent;\n",
              "      border-left-color: var(--fill-color);\n",
              "      border-top-color: var(--fill-color);\n",
              "    }\n",
              "    30% {\n",
              "      border-color: transparent;\n",
              "      border-left-color: var(--fill-color);\n",
              "      border-top-color: var(--fill-color);\n",
              "      border-right-color: var(--fill-color);\n",
              "    }\n",
              "    40% {\n",
              "      border-color: transparent;\n",
              "      border-right-color: var(--fill-color);\n",
              "      border-top-color: var(--fill-color);\n",
              "    }\n",
              "    60% {\n",
              "      border-color: transparent;\n",
              "      border-right-color: var(--fill-color);\n",
              "    }\n",
              "    80% {\n",
              "      border-color: transparent;\n",
              "      border-right-color: var(--fill-color);\n",
              "      border-bottom-color: var(--fill-color);\n",
              "    }\n",
              "    90% {\n",
              "      border-color: transparent;\n",
              "      border-bottom-color: var(--fill-color);\n",
              "    }\n",
              "  }\n",
              "</style>\n",
              "\n",
              "  <script>\n",
              "    async function quickchart(key) {\n",
              "      const quickchartButtonEl =\n",
              "        document.querySelector('#' + key + ' button');\n",
              "      quickchartButtonEl.disabled = true;  // To prevent multiple clicks.\n",
              "      quickchartButtonEl.classList.add('colab-df-spinner');\n",
              "      try {\n",
              "        const charts = await google.colab.kernel.invokeFunction(\n",
              "            'suggestCharts', [key], {});\n",
              "      } catch (error) {\n",
              "        console.error('Error during call to suggestCharts:', error);\n",
              "      }\n",
              "      quickchartButtonEl.classList.remove('colab-df-spinner');\n",
              "      quickchartButtonEl.classList.add('colab-df-quickchart-complete');\n",
              "    }\n",
              "    (() => {\n",
              "      let quickchartButtonEl =\n",
              "        document.querySelector('#df-013a0f24-3f48-4d12-9c9b-6b4c02548d6c button');\n",
              "      quickchartButtonEl.style.display =\n",
              "        google.colab.kernel.accessAllowed ? 'block' : 'none';\n",
              "    })();\n",
              "  </script>\n",
              "</div>\n",
              "    </div>\n",
              "  </div>\n"
            ],
            "application/vnd.google.colaboratory.intrinsic+json": {
              "type": "dataframe",
              "summary": "{\n  \"name\": \"pd\",\n  \"rows\": 5,\n  \"fields\": [\n    {\n      \"column\": \"b1\",\n      \"properties\": {\n        \"dtype\": \"number\",\n        \"std\": 198.2414592804659,\n        \"min\": -76.9223976485076,\n        \"max\": 413.5023476426137,\n        \"num_unique_values\": 5,\n        \"samples\": [\n          -1.922495089127257,\n          2.950306654489557,\n          -20.358547236801115\n        ],\n        \"semantic_type\": \"\",\n        \"description\": \"\"\n      }\n    },\n    {\n      \"column\": \"b2\",\n      \"properties\": {\n        \"dtype\": \"number\",\n        \"std\": 0.8889876755631819,\n        \"min\": -1.9224950891276698,\n        \"max\": 0.21172813144669414,\n        \"num_unique_values\": 5,\n        \"samples\": [\n          0.14876382677268948,\n          -0.033673814347333846,\n          -0.19379181760992847\n        ],\n        \"semantic_type\": \"\",\n        \"description\": \"\"\n      }\n    },\n    {\n      \"column\": \"b3\",\n      \"properties\": {\n        \"dtype\": \"number\",\n        \"std\": 11.011703655635948,\n        \"min\": -20.358547236803577,\n        \"max\": 8.447172138963976,\n        \"num_unique_values\": 5,\n        \"samples\": [\n          -0.1937918176099372,\n          -1.200388980881613,\n          8.447172138963976\n        ],\n        \"semantic_type\": \"\",\n        \"description\": \"\"\n      }\n    },\n    {\n      \"column\": \"b4\",\n      \"properties\": {\n        \"dtype\": \"number\",\n        \"std\": 36.92291222126484,\n        \"min\": -76.92239764854314,\n        \"max\": 14.679601305558545,\n        \"num_unique_values\": 5,\n        \"samples\": [\n          0.2117281314466836,\n          -0.8560856588140702,\n          3.918115176766477\n        ],\n        \"semantic_type\": \"\",\n        \"description\": \"\"\n      }\n    },\n    {\n      \"column\": \"b5\",\n      \"properties\": {\n        \"dtype\": \"number\",\n        \"std\": 1.6557368290456687,\n        \"min\": -1.2003889808814825,\n        \"max\": 2.950306654485705,\n        \"num_unique_values\": 5,\n        \"samples\": [\n          -0.03367381434733042,\n          0.7976695557283743,\n          -1.2003889808814825\n        ],\n        \"semantic_type\": \"\",\n        \"description\": \"\"\n      }\n    }\n  ]\n}"
            }
          },
          "metadata": {},
          "execution_count": 3
        }
      ]
    },
    {
      "cell_type": "code",
      "source": [
        "betas = ['b1', 'b2', 'b3', 'b4', 'b5']\n",
        "for k in range (0, 5):\n",
        "  print(betas[k] + \":\", beta[k])"
      ],
      "metadata": {
        "colab": {
          "base_uri": "https://localhost:8080/"
        },
        "id": "az75f-K9ZANe",
        "outputId": "f6dba1ef-0cb5-4dfc-9106-4187a3e903a7"
      },
      "execution_count": 4,
      "outputs": [
        {
          "output_type": "stream",
          "name": "stdout",
          "text": [
            "b1: -3.5265028449952864\n",
            "b2: 0.720394075879717\n",
            "b3: 0.4363412007898495\n",
            "b4: -0.21988835075390706\n",
            "b5: 0.4265169530626896\n"
          ]
        }
      ]
    },
    {
      "cell_type": "code",
      "source": [
        "print(\"Standard Errors:\")\n",
        "for i, j in zip(np.diag(V_beta / n) ** 0.5, betas):\n",
        "  print(j + \":\", i)"
      ],
      "metadata": {
        "colab": {
          "base_uri": "https://localhost:8080/"
        },
        "id": "YNxN5gghfGcF",
        "outputId": "7516dc7e-6e3e-430a-c0b4-e7b319e8ea5b"
      },
      "execution_count": 5,
      "outputs": [
        {
          "output_type": "stream",
          "name": "stdout",
          "text": [
            "Standard Errors:\n",
            "b1: 1.6887096637876358\n",
            "b2: 0.03203057017941685\n",
            "b3: 0.24136354235688104\n",
            "b4: 0.31818018431936834\n",
            "b5: 0.0741698682070479\n"
          ]
        }
      ]
    },
    {
      "cell_type": "markdown",
      "source": [
        "## t-test"
      ],
      "metadata": {
        "id": "aMcGMfnyZ5wW"
      }
    },
    {
      "cell_type": "code",
      "source": [
        "R = np.array([[0, 0, 1, 1, 1]])\n",
        "q = 1\n",
        "t = np.sqrt(x.shape[0]) * (R @ beta - q) / np.sqrt(R @ V_beta @ R.T)\n",
        "t = t[0, 0]\n",
        "print (\"t-statistic\" + ':', t)\n",
        "print(\"t-test p-value: \", norm.cdf(t))"
      ],
      "metadata": {
        "colab": {
          "base_uri": "https://localhost:8080/"
        },
        "id": "aHyOWm_jaET2",
        "outputId": "c6020515-13ef-4608-bc0a-da5fed739c00"
      },
      "execution_count": 6,
      "outputs": [
        {
          "output_type": "stream",
          "name": "stdout",
          "text": [
            "t-statistic: -0.8176345924143603\n",
            "t-test p-value:  0.20678293442072337\n"
          ]
        }
      ]
    },
    {
      "cell_type": "markdown",
      "source": [
        "## Wald test"
      ],
      "metadata": {
        "id": "HmyFVbAtw_h0"
      }
    },
    {
      "cell_type": "code",
      "source": [
        "R = np.array([[0, 0, 1, 1, 1]])\n",
        "q = 1\n",
        "W = x.shape[0] * (R @ beta - q).T @ np.linalg.inv(R @ V_beta @ R.T) @ (R @ beta - q)\n",
        "print (\"Wald statistic\" + ':', W)\n",
        "print(\"Wald test p-value: \", chi2.sf(W, 1))"
      ],
      "metadata": {
        "id": "H-KE4sR7vmnj",
        "colab": {
          "base_uri": "https://localhost:8080/"
        },
        "outputId": "4827e979-a29d-45fb-fac5-c2928f7d7167"
      },
      "execution_count": 7,
      "outputs": [
        {
          "output_type": "stream",
          "name": "stdout",
          "text": [
            "Wald statistic: 0.668526326712597\n",
            "Wald test p-value:  0.4135658688414465\n"
          ]
        }
      ]
    }
  ]
}