{
  "nbformat": 4,
  "nbformat_minor": 0,
  "metadata": {
    "colab": {
      "provenance": []
    },
    "kernelspec": {
      "name": "python3",
      "display_name": "Python 3"
    },
    "language_info": {
      "name": "python"
    }
  },
  "cells": [
    {
      "cell_type": "code",
      "execution_count": 1,
      "metadata": {
        "id": "z9u3Wt8MS3dw"
      },
      "outputs": [],
      "source": [
        "%matplotlib inline\n",
        "\n",
        "from scipy.stats import chi2, norm\n",
        "\n",
        "import matplotlib.pyplot as plt\n",
        "import numpy as np\n",
        "import pandas as pd\n",
        "import statsmodels.api as sm\n",
        "from scipy.optimize import minimize, least_squares\n",
        "from tqdm import tqdm\n",
        "\n",
        "import warnings\n",
        "warnings.filterwarnings('ignore')"
      ]
    },
    {
      "cell_type": "markdown",
      "source": [
        "# Task 2"
      ],
      "metadata": {
        "id": "9OtxMJ1oW1oj"
      }
    },
    {
      "cell_type": "markdown",
      "source": [
        "## 1-month Forward"
      ],
      "metadata": {
        "id": "pghp382XW61-"
      }
    },
    {
      "cell_type": "code",
      "source": [
        "names = ['P', 'F', 'Y', 'Pf', 'Ff', 'Yy']\n",
        "\n",
        "data1 = pd.read_csv('FwdSpot1.dat', header=None,\n",
        "                    sep=' ', skipinitialspace=True).loc[:, 2:] \\\n",
        "                    .rename({i + 2: name for i, name in enumerate(names)},\n",
        "                            axis=1).apply(np.log)\n",
        "\n",
        "k = 1\n",
        "\n",
        "st = data1.iloc[:, :3]\n",
        "dst = (st.shift(-k) - st.values).dropna().values\n",
        "\n",
        "ft = data1.iloc[:, 3:]\n",
        "dft = (ft - st.values).iloc[:dst.shape[0]].values"
      ],
      "metadata": {
        "id": "0LkCdwFIlFR7"
      },
      "execution_count": 2,
      "outputs": []
    },
    {
      "cell_type": "code",
      "source": [
        "coef_names = [['a1', 'b1'],\n",
        "              ['a2', 'b2'],\n",
        "              ['a3', 'b3']]\n",
        "\n",
        "R = np.array([[0, 1], [1, 0]])\n",
        "q = np.array([1, 0])\n",
        "n = dft.shape[0]\n",
        "l = 15\n",
        "b = 10000"
      ],
      "metadata": {
        "id": "X_ynEuzAW-es"
      },
      "execution_count": 3,
      "outputs": []
    },
    {
      "cell_type": "code",
      "source": [
        "coef_names"
      ],
      "metadata": {
        "colab": {
          "base_uri": "https://localhost:8080/"
        },
        "id": "fgtrD15ltJ2u",
        "outputId": "5be0d535-ffa3-498b-922b-aa927231f0cb"
      },
      "execution_count": 4,
      "outputs": [
        {
          "output_type": "execute_result",
          "data": {
            "text/plain": [
              "[['a1', 'b1'], ['a2', 'b2'], ['a3', 'b3']]"
            ]
          },
          "metadata": {},
          "execution_count": 4
        }
      ]
    },
    {
      "cell_type": "code",
      "source": [
        "def get_beta(X, y):\n",
        "  xtxi = np.linalg.inv(X.T @ X)\n",
        "  return xtxi @ X.T @ y\n",
        "\n",
        "def get_V(coefs, X, y):\n",
        "  yh = X @ coefs\n",
        "  eh = y - yh\n",
        "  n = X.shape[0]\n",
        "\n",
        "  Q = X.T @ X / n\n",
        "  Qi = np.linalg.inv(Q)\n",
        "\n",
        "  V = X.T @ np.diag(eh ** 2) @ X / n\n",
        "  return Qi @ V @ Qi\n",
        "\n",
        "def get_Wald(V, coefs, R, q, n):\n",
        "\n",
        "  Q = R @ coefs - q\n",
        "  W = n * Q.T @ np.linalg.inv(R @ V @ R.T) @ Q\n",
        "  return W, chi2.ppf(0.95, 2)\n",
        "\n",
        "def get_Wald_boot(V, coefs, coefs0, R, q, n):\n",
        "\n",
        "  Q = R @ coefs - R @ coefs0\n",
        "  W = n * Q.T @ np.linalg.inv(R @ V @ R.T) @ Q\n",
        "  return W\n",
        "\n",
        "def step(X, y, R, q, beta0, n):\n",
        "  beta = get_beta(X, y)\n",
        "  V = get_V(beta, X, y)\n",
        "  return get_Wald_boot(V, beta, beta0, R, q, n)\n",
        "\n",
        "def get_bootstrap_Wald(X, y, R, q, n, b, l):\n",
        "  T = n // l * l\n",
        "\n",
        "  # seq = np.arange(T)\n",
        "  # slices = np.lib.stride_tricks.as_strided(seq, (T - l, l), 2 * seq.strides)\n",
        "  # slicesX = X[slices]\n",
        "  # slicesy = y[slices]\n",
        "\n",
        "  beta0 = get_beta(X, y)\n",
        "\n",
        "  walds = []\n",
        "\n",
        "  for i in range(b):\n",
        "    blocks = np.random.choice(T - l, size=T // l)\n",
        "    Xb = []\n",
        "    yb = []\n",
        "\n",
        "    for block in blocks:\n",
        "      Xb += list(X[block:block + l])\n",
        "      yb += list(y[block:block + l])\n",
        "\n",
        "    Xb = np.array(Xb)\n",
        "    yb = np.array(yb)\n",
        "\n",
        "    # Xb = slicesX[blocks].reshape(-1, X.shape[-1])\n",
        "    # yb = slicesy[blocks].flatten()\n",
        "\n",
        "    walds.append(step(Xb, yb, R, q, beta0, n))\n",
        "\n",
        "  return np.quantile(walds, 0.95)"
      ],
      "metadata": {
        "id": "FcNsBrLWXQvd"
      },
      "execution_count": 5,
      "outputs": []
    },
    {
      "cell_type": "code",
      "source": [
        "for i, name in enumerate(coef_names):\n",
        "\n",
        "  print(\"Experiment for \" + names[i])\n",
        "\n",
        "  X = sm.add_constant(dft[:, i])\n",
        "  y = dst[:, i]\n",
        "\n",
        "  coefs = get_beta(X, y)\n",
        "\n",
        "  for coef, name in zip(coefs, coef_names[i]):\n",
        "    print(name + \": \", round(coef, 4), end = '\\t')\n",
        "  print()\n",
        "\n",
        "  V = get_V(coefs, X, y)\n",
        "\n",
        "  W, border = get_Wald(V, coefs, R, q, n)\n",
        "\n",
        "  borderW = get_bootstrap_Wald(X, y, R, q, n, b, l)\n",
        "\n",
        "  print(\"Wald Statistic for \" + names[i] + \" is:\", round(W, 3))\n",
        "  print(\"Asymptotic critical value for \" + names[i] + \" is:\", round(border, 3))\n",
        "  print(\"Bootstrap critical value for \" + names[i] + \" is:\",\n",
        "        round(borderW, 3), end=\"\\n\\n\")"
      ],
      "metadata": {
        "colab": {
          "base_uri": "https://localhost:8080/"
        },
        "id": "07N7YPO7dFo4",
        "outputId": "c847577a-7f7d-4ef8-cbfd-96ed7acf982e"
      },
      "execution_count": 6,
      "outputs": [
        {
          "output_type": "stream",
          "name": "stdout",
          "text": [
            "Experiment for P\n",
            "a1:  -0.0023\tb1:  -0.7261\t\n",
            "Wald Statistic for P is: 7.446\n",
            "Asymptotic critical value for P is: 5.991\n",
            "Bootstrap critical value for P is: 14.324\n",
            "\n",
            "Experiment for F\n",
            "a2:  -0.0023\tb2:  -0.9606\t\n",
            "Wald Statistic for F is: 5.727\n",
            "Asymptotic critical value for F is: 5.991\n",
            "Bootstrap critical value for F is: 10.312\n",
            "\n",
            "Experiment for Y\n",
            "a3:  0.0036\tb3:  -0.1528\t\n",
            "Wald Statistic for Y is: 4.899\n",
            "Asymptotic critical value for Y is: 5.991\n",
            "Bootstrap critical value for Y is: 16.564\n",
            "\n"
          ]
        }
      ]
    },
    {
      "cell_type": "markdown",
      "source": [
        "## 3-month Forward"
      ],
      "metadata": {
        "id": "__0pOAAcjbU-"
      }
    },
    {
      "cell_type": "code",
      "source": [
        "names = ['P', 'F', 'Y', 'Pf', 'Ff', 'Yy']\n",
        "\n",
        "dota3 = pd.read_csv('FwdSpot3.dat', header=None,\n",
        "                    sep=' ', skipinitialspace=True).loc[:, 2:] \\\n",
        "                    .rename({i + 2: name for i, name in enumerate(names)},\n",
        "                            axis=1).apply(np.log)\n",
        "k = 3\n",
        "\n",
        "st = dota3.iloc[:, :3]\n",
        "dst = (st.shift(-k) - st.values).dropna().values\n",
        "\n",
        "ft = dota3.iloc[:, 3:]\n",
        "dft = (ft - st.values).iloc[:dst.shape[0]].values"
      ],
      "metadata": {
        "id": "KNs2rJB2db8r"
      },
      "execution_count": 7,
      "outputs": []
    },
    {
      "cell_type": "code",
      "source": [
        "coef_names = [['a1', 'b1'],\n",
        "              ['a2', 'b2'],\n",
        "              ['a3', 'b3']]\n",
        "\n",
        "R = np.array([[0, 1], [1, 0]])\n",
        "q = np.array([1, 0])\n",
        "n = dft.shape[0]\n",
        "l = 15\n",
        "b = 10000"
      ],
      "metadata": {
        "id": "oV2fjFVOSnlv"
      },
      "execution_count": 8,
      "outputs": []
    },
    {
      "cell_type": "code",
      "source": [
        "def get_Gj(Z, j):\n",
        "  Zm = Z.mean(axis=0)\n",
        "  T = Z.shape[0]\n",
        "\n",
        "  i_min = max(0, j)\n",
        "  i_max = min(T, T + j)\n",
        "\n",
        "  Z_t = Z[i_min:i_max] - Zm\n",
        "  Z_tj = Z[i_min-j:i_max-j] - Zm\n",
        "\n",
        "  return Z_t.T @ Z_tj / T\n",
        "\n",
        "def get_NWV(coefs, X, y):\n",
        "  yh = X @ coefs\n",
        "  eh = y - yh\n",
        "\n",
        "  Z = X * eh[:, None]\n",
        "  T = X.shape[0]\n",
        "  m = int(4 * (T / 100) ** (1/3))\n",
        "\n",
        "  V = 0\n",
        "  for j in range(-m, m + 1):\n",
        "    V += (1 - abs(j) / (m + 1)) * get_Gj(Z, j)\n",
        "\n",
        "  Q = X.T @ X / n\n",
        "  Qi = np.linalg.inv(Q)\n",
        "\n",
        "  return Qi @ V @ Qi\n",
        "\n",
        "def step(X, y, R, q, beta0, n):\n",
        "  beta = get_beta(X, y)\n",
        "  V = get_NWV(beta, X, y)\n",
        "  return get_Wald_boot(V, beta, beta0, R, q, n)"
      ],
      "metadata": {
        "id": "v9sUf3gokIiI"
      },
      "execution_count": 9,
      "outputs": []
    },
    {
      "cell_type": "code",
      "source": [
        "for i, name in enumerate(coef_names):\n",
        "\n",
        "  print(\"Experiment for \" + names[i])\n",
        "\n",
        "  X = sm.add_constant(dft[:, i])\n",
        "  y = dst[:, i]\n",
        "\n",
        "  coefs = get_beta(X, y)\n",
        "\n",
        "  for coef, name in zip(coefs, coef_names[i]):\n",
        "    print(name + \": \", round(coef, 4), end = '\\t')\n",
        "  print()\n",
        "\n",
        "  V = get_NWV(coefs, X, y)\n",
        "\n",
        "  W, border = get_Wald(V, coefs, R, q, n)\n",
        "\n",
        "  borderW = get_bootstrap_Wald(X, y, R, q, n, b, l)\n",
        "\n",
        "  print(\"Wald Statistic for \" + names[i] + \" is:\", round(W, 3))\n",
        "  print(\"Asymptotic critical value for \" + names[i] + \" is:\", round(border, 3))\n",
        "  print(\"Bootstrap critical value for \" + names[i] + \" is:\",\n",
        "        round(borderW, 3), end=\"\\n\\n\")\n"
      ],
      "metadata": {
        "colab": {
          "base_uri": "https://localhost:8080/"
        },
        "id": "nyMa-bQHkKuB",
        "outputId": "2c2b9ea2-9cc3-43bb-8ea1-0a0aea9fae8c"
      },
      "execution_count": 10,
      "outputs": [
        {
          "output_type": "stream",
          "name": "stdout",
          "text": [
            "Experiment for P\n",
            "a1:  -0.0187\tb1:  -2.0586\t\n",
            "Wald Statistic for P is: 19.094\n",
            "Asymptotic critical value for P is: 5.991\n",
            "Bootstrap critical value for P is: 10.02\n",
            "\n",
            "Experiment for F\n",
            "a2:  -0.0044\tb2:  -0.4804\t\n",
            "Wald Statistic for F is: 3.757\n",
            "Asymptotic critical value for F is: 5.991\n",
            "Bootstrap critical value for F is: 12.954\n",
            "\n",
            "Experiment for Y\n",
            "a3:  0.0131\tb3:  -0.602\t\n",
            "Wald Statistic for Y is: 12.579\n",
            "Asymptotic critical value for Y is: 5.991\n",
            "Bootstrap critical value for Y is: 15.397\n",
            "\n"
          ]
        }
      ]
    },
    {
      "cell_type": "markdown",
      "source": [
        "It can be seen that the critical values differ significantly. This may be due to a small sample size -- we only have 233 observations. Due to this small number of observations, we may also have a poor approximation of the cumulative distribution function via empirical cumulative distribution function. Also we used only 10k samples, which is small for 233 observations, this could also affect the quality. However, the more samples we have, the longer it will take to calculate. It is also possible that the data series are non-stationary or do not have the required properties to perform an asymptotic approximation using normal distribution."
      ],
      "metadata": {
        "id": "HWz2c6UCovI_"
      }
    }
  ]
}